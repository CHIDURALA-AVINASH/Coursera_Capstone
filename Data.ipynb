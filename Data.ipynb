{
    "cells": [
        {
            "cell_type": "markdown",
            "metadata": {
                "collapsed": true
            },
            "source": "## Capstone Project - Restaurant in Belgrade"
        },
        {
            "cell_type": "markdown",
            "metadata": {},
            "source": "### Introduction/Business Problem"
        },
        {
            "cell_type": "markdown",
            "metadata": {},
            "source": "As there so many restaraunts in Belgrade risk for opening new restaurant is getting bigger. \nThat\u2019s why using data science and location data of other restaurants we can reduce that risk and help small business owners to open new restaurants.\n\nThe main idea is to calculate the best location for opening a specific restaurant so the impact of competition is the lowest and restaurants have the best chance to profit.\n"
        },
        {
            "cell_type": "markdown",
            "metadata": {},
            "source": "### Data"
        },
        {
            "cell_type": "markdown",
            "metadata": {},
            "source": "Using Foursquare API we will gather all required data we need for finding the best location for the new restaurant.\n\nThe Foursquare Places API provides location-based experiences with diverse information about venues, users, photos, and check-ins. \nThe API supports real-time access to places, Snap-to-Place that assigns users to specific locations, and Geo-tag. \n\nFor our project, we will gather the name of the restaurant, address, and geographical coordinates and that data will be used for analysis."
        }
    ],
    "metadata": {
        "kernelspec": {
            "display_name": "Python 3.6",
            "language": "python",
            "name": "python3"
        },
        "language_info": {
            "codemirror_mode": {
                "name": "ipython",
                "version": 3
            },
            "file_extension": ".py",
            "mimetype": "text/x-python",
            "name": "python",
            "nbconvert_exporter": "python",
            "pygments_lexer": "ipython3",
            "version": "3.6.9"
        }
    },
    "nbformat": 4,
    "nbformat_minor": 1
}